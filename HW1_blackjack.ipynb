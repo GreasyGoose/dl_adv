{
 "cells": [
  {
   "cell_type": "markdown",
   "metadata": {
    "id": "oDw2uhzINcjN"
   },
   "source": [
    "### RL and Advanced DL: Домашнее задание 1"
   ]
  },
  {
   "cell_type": "markdown",
   "metadata": {
    "id": "ZEZJqOq_NcmS"
   },
   "source": [
    "Первое ДЗ связано с обучением с подкреплением, и оно придумано для ситуации, когда нейронные сети ещё не нужны, и пространство состояний в целом достаточно маленькое, чтобы можно было обучить хорошую стратегию методами TD-обучения или другими методами обучения с подкреплением."
   ]
  },
  {
   "cell_type": "markdown",
   "metadata": {
    "id": "9A1unNW9NcpV"
   },
   "source": [
    "### Часть I"
   ]
  },
  {
   "cell_type": "markdown",
   "metadata": {
    "id": "5s7dk77VNcsl"
   },
   "source": [
    "Мы будем обучаться играть в очень простую, но знаменитую и популярную игру: блекджек. \n",
    " \n",
    "Правила блекджека достаточно просты; давайте начнём с самой базовой версии, которая реализована в OpenAI Gym:<br>\n",
    "➢\tчисленные значения карт равны от 2 до 10 для карт от двойки до десятки, 10 для валетов, дам и королей;<br>\n",
    "➢\tтуз считается за 11 очков, если общая сумма карт на руке при этом не превосходит 21 (по-английски в этом случае говорят, что на руке есть usable ace), и за 1 очко, если превосходит;<br>\n",
    "➢\tигроку раздаются две карты, дилеру — одна в открытую и одна в закрытую;<br>\n",
    "➢\tигрок может совершать одно из двух действий:<br>\n",
    "○\thit  — взять ещё одну карту;<br>\n",
    "○\tstand — не брать больше карт;<br>\n",
    "➢\tесли сумма очков у игрока на руках больше 21, он проигрывает (bust);<br>\n",
    "➢\tесли игрок выбирает stand с суммой не больше 21, дилер добирает карты, пока сумма карт в его руке меньше 17;<br>\n",
    "➢\tпосле этого игрок выигрывает, если дилер либо превышает 21, либо получает сумму очков меньше, чем сумма очков у игрока; при равенстве очков объявляется ничья (ставка возвращается);<br>\n",
    "➢\tв исходных правилах есть ещё дополнительный бонус за natural blackjack: если игрок набирает 21 очко с раздачи, двумя картами, он выигрывает не +1, а +1.5 (полторы ставки).<br>\n",
    "Именно этот простейший вариант блекджека реализован в OpenAI Gym:<br>\n",
    "https://github.com/openai/gym/blob/master/gym/envs/toy_text/blackjack.py \n",
    "1.\tРассмотрим очень простую стратегию: говорить stand, если у нас на руках комбинация в 19, 20 или 21 очко, во всех остальных случаях говорить hit. Используйте методы Монте-Карло, чтобы оценить выигрыш от этой стратегии.<br>\n",
    "2.\tРеализуйте метод обучения с подкреплением без модели (можно Q-обучение, но рекомендую попробовать и другие, например Monte Carlo control) для обучения стратегии в блекджеке, используя окружение Blackjack-v0 из OpenAI Gym.<br>\n",
    "3.\tСколько выигрывает казино у вашей стратегии? Нарисуйте графики среднего дохода вашего метода (усреднённого по крайней мере по 100000 раздач, а лучше больше) по ходу обучения. Попробуйте подобрать оптимальные гиперпараметры.<br>\n"
   ]
  },
  {
   "cell_type": "code",
   "execution_count": 4,
   "metadata": {
    "colab": {
     "base_uri": "https://localhost:8080/",
     "height": 316
    },
    "executionInfo": {
     "elapsed": 469,
     "status": "error",
     "timestamp": 1635011304561,
     "user": {
      "displayName": "Android Android",
      "photoUrl": "https://lh3.googleusercontent.com/a/default-user=s64",
      "userId": "13093274461639918305"
     },
     "user_tz": -180
    },
    "id": "vbO0aJ-6Ocbm",
    "outputId": "a7cc8e7a-cf08-4fea-9f95-cf9b00d4b2ee"
   },
   "outputs": [],
   "source": [
    "# import blackjack"
   ]
  },
  {
   "cell_type": "code",
   "execution_count": 196,
   "metadata": {},
   "outputs": [],
   "source": [
    "import gym\n",
    "from gym import envs\n",
    "import numpy as np\n",
    "import matplotlib.pyplot as plt"
   ]
  },
  {
   "cell_type": "code",
   "execution_count": 19,
   "metadata": {},
   "outputs": [],
   "source": [
    "# print(envs.registry.all())"
   ]
  },
  {
   "cell_type": "markdown",
   "metadata": {},
   "source": [
    "### Simple strategy"
   ]
  },
  {
   "cell_type": "code",
   "execution_count": 201,
   "metadata": {},
   "outputs": [],
   "source": [
    "env=gym.make('Blackjack-v1', natural=True)"
   ]
  },
  {
   "cell_type": "code",
   "execution_count": 202,
   "metadata": {},
   "outputs": [],
   "source": [
    "def simple_strategy_episode(env):\n",
    "    \"\"\"\n",
    "    observations:\n",
    "        score_player, score_dealer, usable_ace [natural blackjack]\n",
    "    actions: 0 - stand, 1 - hit\n",
    "    \"\"\"\n",
    "    obs, actions, rewards = [], [], []\n",
    "    observation = env.reset()\n",
    "    done = False\n",
    "    while not done:\n",
    "        score_player, score_dealer, usable_ace = observation\n",
    "        action = 1 if score_player < 19 else 0\n",
    "        actions.append(action)\n",
    "        obs.append(observation)\n",
    "        observation, reward, done, _ = env.step(action)\n",
    "        rewards.append(reward)\n",
    "    return obs, actions, rewards"
   ]
  },
  {
   "cell_type": "code",
   "execution_count": 194,
   "metadata": {},
   "outputs": [],
   "source": [
    "def plot_mean_reward(reward_history):\n",
    "    b = np.cumsum(reward_history)\n",
    "    mean_reward = b/np.arange(1, b.shape[0] + 1)\n",
    "    plt.plot(mean_reward)\n",
    "    plt.xlabel('episode')\n",
    "    plt.ylabel('mean reward')\n",
    "    plt.grid()\n",
    "    plt.show()"
   ]
  },
  {
   "cell_type": "code",
   "execution_count": 203,
   "metadata": {},
   "outputs": [
    {
     "name": "stdout",
     "output_type": "stream",
     "text": [
      "observations[score_player, score_dealer, usable_ace]=[(9, 2, False), (15, 2, False), (16, 2, False)], actions=[1, 1, 1], rewards=[0.0, 0.0, -1.0]\n"
     ]
    }
   ],
   "source": [
    "#Single example\n",
    "obs, actions, rewards = simple_strategy_episode(env)\n",
    "print(f\"observations[score_player, score_dealer, usable_ace]={obs}, actions={actions}, rewards={rewards}\" )"
   ]
  },
  {
   "cell_type": "code",
   "execution_count": 204,
   "metadata": {},
   "outputs": [],
   "source": [
    "num_of_episodes = int(1e5)\n",
    "simple_strategy_reward = 0\n",
    "reward_history = []\n",
    "for i in range(num_of_episodes): \n",
    "    _, _, rewards = simple_strategy_episode(env)\n",
    "    simple_strategy_reward = (simple_strategy_reward * i + rewards[-1]) / (i + 1)\n",
    "    reward_history.append(rewards[-1])"
   ]
  },
  {
   "cell_type": "code",
   "execution_count": 205,
   "metadata": {},
   "outputs": [
    {
     "name": "stdout",
     "output_type": "stream",
     "text": [
      "Reward for simple strategy is -0.1940399999999984\n"
     ]
    }
   ],
   "source": [
    "print(f\"Reward for simple strategy is {simple_strategy_reward}\")"
   ]
  },
  {
   "cell_type": "code",
   "execution_count": 206,
   "metadata": {},
   "outputs": [
    {
     "data": {
      "image/png": "[encoded data removed]",
      "text/plain": [
       "<Figure size 432x288 with 1 Axes>"
      ]
     },
     "metadata": {
      "needs_background": "light"
     },
     "output_type": "display_data"
    }
   ],
   "source": [
    "plot_mean_reward(reward_history)"
   ]
  },
  {
   "cell_type": "code",
   "execution_count": 207,
   "metadata": {},
   "outputs": [],
   "source": [
    "env.close()"
   ]
  },
  {
   "cell_type": "markdown",
   "metadata": {},
   "source": [
    "#### Reward for simple strategy is -0.196"
   ]
  },
  {
   "cell_type": "markdown",
   "metadata": {},
   "source": [
    "### Q-learning"
   ]
  },
  {
   "cell_type": "code",
   "execution_count": null,
   "metadata": {},
   "outputs": [],
   "source": [
    "env=gym.make('Blackjack-v1', natural=True)"
   ]
  },
  {
   "cell_type": "code",
   "execution_count": 93,
   "metadata": {},
   "outputs": [],
   "source": [
    "def get_random_Q():\n",
    "    # численные значения карт равны от 2 до 11 \n",
    "    # в начале игры у игрока 2 карты, т.е. 2 очка минимум (туз+туз) и 21 максимум \n",
    "    \n",
    "    # у дилера 2 карты, одна открыта - это от 1 до 10 (1 - это туз) P.S. почему не 11 (заранее не знаем, сколько стоит его туз?)\n",
    "    # в конце игры у игрока максимум 32 очка при переборе: 21 без usable_ace + туз\n",
    "    # невозможные состояния: \n",
    "    # 1) 32 с usable_ace; \n",
    "    # 2)очков меньше 13 с usable_ace (туз+2 минимум)    \n",
    "        #-> по ходу, это не так, обнуляется только второй туз, а первый остается и может быть 11+1=12, значит\n",
    "        # очков меньше 12 с usable_ace быть не может\n",
    "    # Q-value: [hit, stand] reward\n",
    "    #состояния >= 21 - игра закончена, done, final states\n",
    "\n",
    "    player_Q_Values = {} \n",
    "    for player_val in range(2, 33):#max=21+ace\n",
    "        for dealer_val in range(1, 11):\n",
    "            for usable_ace in [True, False]:          \n",
    "                if (player_val == 21) and not usable_ace:\n",
    "                    player_Q_Values[(player_val, dealer_val, usable_ace)] = [0, 1] #in case of hit we get 0, stand +1\n",
    "                elif (player_val == 21) and usable_ace:\n",
    "                    #natural_blackjack\n",
    "                    player_Q_Values[(player_val, dealer_val, usable_ace)] = [0, 1.5]\n",
    "                elif (player_val == 32) and usable_ace:\n",
    "                    continue                     \n",
    "                elif (player_val < 12) and not usable_ace:\n",
    "                    player_Q_Values[(player_val, dealer_val, usable_ace)] = np.random.random(2)\n",
    "                elif (player_val >= 12) and (player_val < 21):\n",
    "                    player_Q_Values[(player_val, dealer_val, usable_ace)] = np.random.random(2)            \n",
    "                elif player_val > 21:    #i > 21\n",
    "                    player_Q_Values[(player_val, dealer_val, usable_ace)] = [0, 0]\n",
    "    return player_Q_Values"
   ]
  },
  {
   "cell_type": "code",
   "execution_count": 86,
   "metadata": {},
   "outputs": [],
   "source": [
    "def compute_policy_by_Q(player_Q_Values, gamma=1.0):\n",
    "    pi = {}\n",
    "    for key in player_Q_Values:\n",
    "        pi[key] = np.argmax( player_Q_Values[key] )\n",
    "    return pi"
   ]
  },
  {
   "cell_type": "code",
   "execution_count": 123,
   "metadata": {},
   "outputs": [],
   "source": [
    "def extract_array_from_Q(Q):\n",
    "    for k in Q.keys():\n",
    "        arr.append(Q[k])\n",
    "    arr = np.array(arr)\n",
    "    return arr"
   ]
  },
  {
   "cell_type": "code",
   "execution_count": 149,
   "metadata": {},
   "outputs": [],
   "source": [
    "def key_to_idx(Q):\n",
    "    idx_dict = {}\n",
    "    idx = 0\n",
    "    for k in Q.keys():\n",
    "        idx_dict[k] = idx\n",
    "        idx += 1\n",
    "    return idx_dict    "
   ]
  },
  {
   "cell_type": "code",
   "execution_count": 200,
   "metadata": {},
   "outputs": [],
   "source": [
    "def Q_learning_episode(env, pi, Q, alpha=0.05, epsilon=0.0, gamma=0.9, nA=2):\n",
    "\n",
    "    states, actions, rewards = [], [], []\n",
    "    observation = env.reset()\n",
    "    #observations is [score_player, score_dealer, usable_ace]    \n",
    "    #nA = 2 # total numbber of possible actions\n",
    "    s = observation\n",
    "    a = pi[s] if np.random.rand() > epsilon else np.random.randint(nA)\n",
    "    done = False\n",
    "    \n",
    "    while not done:\n",
    "        observation, reward, done, _= env.step(a)\n",
    "        states.append(s)\n",
    "        actions.append(a)\n",
    "        rewards.append(reward)\n",
    "        s_prime = observation\n",
    "        a_prime = pi[s_prime] if np.random.rand() > epsilon else np.random.randint(nA)\n",
    "        Q[s][a] = Q[s][a] + alpha * (reward + gamma * np.max(Q[s_prime]) - Q[s][a])\n",
    "        s, a = s_prime, a_prime\n",
    "        \n",
    "    return  states, actions, rewards    "
   ]
  },
  {
   "cell_type": "markdown",
   "metadata": {},
   "source": [
    "### Test"
   ]
  },
  {
   "cell_type": "code",
   "execution_count": 158,
   "metadata": {},
   "outputs": [],
   "source": [
    "Q = get_random_Q()\n",
    "pi = compute_policy_by_Q(Q)\n",
    "idxs = key_to_idx(Q)"
   ]
  },
  {
   "cell_type": "code",
   "execution_count": 161,
   "metadata": {},
   "outputs": [],
   "source": [
    "Q_hist_Qlearn = [ ]\n",
    "reward_history = []\n",
    "Q_hist_Qlearn.append(extract_array_from_Q(Q))\n",
    "\n",
    "num_of_episodes = 100\n",
    "for _ in range(num_of_episodes):\n",
    "    _, _, rewards = Q_learning_episode(env, pi, Q, nA=2)\n",
    "    reward_history.append(rewards[-1])\n",
    "    pi = compute_policy_by_Q(Q)\n",
    "    Q_hist_Qlearn.append(np.copy(extract_array_from_Q(Q)))"
   ]
  },
  {
   "cell_type": "markdown",
   "metadata": {},
   "source": [
    "### Подбор гиперпараметров "
   ]
  },
  {
   "cell_type": "code",
   "execution_count": 165,
   "metadata": {},
   "outputs": [],
   "source": [
    "eps_range = np.arange(0.1, 0.5, 0.1)\n",
    "alpha_range = [0.00001, 0.0001, 0.001, 0.01]\n",
    "gamma_range = [0.2, 0.4, 0.6, 0.8]"
   ]
  },
  {
   "cell_type": "code",
   "execution_count": 183,
   "metadata": {},
   "outputs": [
    {
     "name": "stdout",
     "output_type": "stream",
     "text": [
      "1: epsilon=0.1, alpha=1e-05, gamma=0.2: avg_reward=-0.5134300000000004\n",
      "2: epsilon=0.1, alpha=1e-05, gamma=0.4: avg_reward=-0.46216\n",
      "3: epsilon=0.1, alpha=1e-05, gamma=0.6: avg_reward=-0.4439199999999981\n",
      "4: epsilon=0.1, alpha=1e-05, gamma=0.8: avg_reward=-0.49005\n",
      "5: epsilon=0.1, alpha=0.0001, gamma=0.2: avg_reward=-0.4105500000000002\n",
      "6: epsilon=0.1, alpha=0.0001, gamma=0.4: avg_reward=-0.4348400000000003\n",
      "7: epsilon=0.1, alpha=0.0001, gamma=0.6: avg_reward=-0.4422600000000007\n",
      "8: epsilon=0.1, alpha=0.0001, gamma=0.8: avg_reward=-0.4926899999999998\n",
      "9: epsilon=0.1, alpha=0.001, gamma=0.2: avg_reward=-0.31368000000000257\n",
      "10: epsilon=0.1, alpha=0.001, gamma=0.4: avg_reward=-0.3191199999999977\n",
      "11: epsilon=0.1, alpha=0.001, gamma=0.6: avg_reward=-0.3280900000000023\n",
      "12: epsilon=0.1, alpha=0.001, gamma=0.8: avg_reward=-0.3150200000000003\n",
      "13: epsilon=0.1, alpha=0.01, gamma=0.2: avg_reward=-0.1484899999999997\n",
      "14: epsilon=0.1, alpha=0.01, gamma=0.4: avg_reward=-0.16823999999999892\n",
      "15: epsilon=0.1, alpha=0.01, gamma=0.6: avg_reward=-0.17443000000000128\n",
      "16: epsilon=0.1, alpha=0.01, gamma=0.8: avg_reward=-0.1947700000000006\n",
      "17: epsilon=0.2, alpha=1e-05, gamma=0.2: avg_reward=-0.4436400000000002\n",
      "18: epsilon=0.2, alpha=1e-05, gamma=0.4: avg_reward=-0.4938900000000003\n",
      "19: epsilon=0.2, alpha=1e-05, gamma=0.6: avg_reward=-0.4187499999999993\n",
      "20: epsilon=0.2, alpha=1e-05, gamma=0.8: avg_reward=-0.42160999999999965\n",
      "21: epsilon=0.2, alpha=0.0001, gamma=0.2: avg_reward=-0.41039999999999854\n",
      "22: epsilon=0.2, alpha=0.0001, gamma=0.4: avg_reward=-0.4263700000000004\n",
      "23: epsilon=0.2, alpha=0.0001, gamma=0.6: avg_reward=-0.41677\n",
      "24: epsilon=0.2, alpha=0.0001, gamma=0.8: avg_reward=-0.44873999999999986\n",
      "25: epsilon=0.2, alpha=0.001, gamma=0.2: avg_reward=-0.31634999999999697\n",
      "26: epsilon=0.2, alpha=0.001, gamma=0.4: avg_reward=-0.33632999999999896\n",
      "27: epsilon=0.2, alpha=0.001, gamma=0.6: avg_reward=-0.32334000000000296\n",
      "28: epsilon=0.2, alpha=0.001, gamma=0.8: avg_reward=-0.31376000000000126\n",
      "29: epsilon=0.2, alpha=0.01, gamma=0.2: avg_reward=-0.1782000000000015\n",
      "30: epsilon=0.2, alpha=0.01, gamma=0.4: avg_reward=-0.1830700000000005\n",
      "31: epsilon=0.2, alpha=0.01, gamma=0.6: avg_reward=-0.2063700000000016\n",
      "32: epsilon=0.2, alpha=0.01, gamma=0.8: avg_reward=-0.22692999999999994\n",
      "33: epsilon=0.30000000000000004, alpha=1e-05, gamma=0.2: avg_reward=-0.41181000000000056\n",
      "34: epsilon=0.30000000000000004, alpha=1e-05, gamma=0.4: avg_reward=-0.4535600000000022\n",
      "35: epsilon=0.30000000000000004, alpha=1e-05, gamma=0.6: avg_reward=-0.45127000000000017\n",
      "36: epsilon=0.30000000000000004, alpha=1e-05, gamma=0.8: avg_reward=-0.5214299999999923\n",
      "37: epsilon=0.30000000000000004, alpha=0.0001, gamma=0.2: avg_reward=-0.43819999999999926\n",
      "38: epsilon=0.30000000000000004, alpha=0.0001, gamma=0.4: avg_reward=-0.4567399999999997\n",
      "39: epsilon=0.30000000000000004, alpha=0.0001, gamma=0.6: avg_reward=-0.4550500000000005\n",
      "40: epsilon=0.30000000000000004, alpha=0.0001, gamma=0.8: avg_reward=-0.4142199999999996\n",
      "41: epsilon=0.30000000000000004, alpha=0.001, gamma=0.2: avg_reward=-0.33097000000000365\n",
      "42: epsilon=0.30000000000000004, alpha=0.001, gamma=0.4: avg_reward=-0.3553899999999987\n",
      "43: epsilon=0.30000000000000004, alpha=0.001, gamma=0.6: avg_reward=-0.32378\n",
      "44: epsilon=0.30000000000000004, alpha=0.001, gamma=0.8: avg_reward=-0.33545999999999665\n",
      "45: epsilon=0.30000000000000004, alpha=0.01, gamma=0.2: avg_reward=-0.20192999999999928\n",
      "46: epsilon=0.30000000000000004, alpha=0.01, gamma=0.4: avg_reward=-0.2110799999999998\n",
      "47: epsilon=0.30000000000000004, alpha=0.01, gamma=0.6: avg_reward=-0.22066000000000008\n",
      "48: epsilon=0.30000000000000004, alpha=0.01, gamma=0.8: avg_reward=-0.23306999999999906\n",
      "49: epsilon=0.4, alpha=1e-05, gamma=0.2: avg_reward=-0.4564300000000003\n",
      "50: epsilon=0.4, alpha=1e-05, gamma=0.4: avg_reward=-0.4275799999999975\n",
      "51: epsilon=0.4, alpha=1e-05, gamma=0.6: avg_reward=-0.40752\n",
      "52: epsilon=0.4, alpha=1e-05, gamma=0.8: avg_reward=-0.442510000000001\n",
      "53: epsilon=0.4, alpha=0.0001, gamma=0.2: avg_reward=-0.3875199999999997\n",
      "54: epsilon=0.4, alpha=0.0001, gamma=0.4: avg_reward=-0.4497400000000002\n",
      "55: epsilon=0.4, alpha=0.0001, gamma=0.6: avg_reward=-0.46522000000000086\n",
      "56: epsilon=0.4, alpha=0.0001, gamma=0.8: avg_reward=-0.44165000000000015\n",
      "57: epsilon=0.4, alpha=0.001, gamma=0.2: avg_reward=-0.3513500000000004\n",
      "58: epsilon=0.4, alpha=0.001, gamma=0.4: avg_reward=-0.33005000000000245\n",
      "59: epsilon=0.4, alpha=0.001, gamma=0.6: avg_reward=-0.3597799999999964\n",
      "60: epsilon=0.4, alpha=0.001, gamma=0.8: avg_reward=-0.3431700000000048\n",
      "61: epsilon=0.4, alpha=0.01, gamma=0.2: avg_reward=-0.23536999999999772\n",
      "62: epsilon=0.4, alpha=0.01, gamma=0.4: avg_reward=-0.23678000000000007\n",
      "63: epsilon=0.4, alpha=0.01, gamma=0.6: avg_reward=-0.24045999999999934\n",
      "64: epsilon=0.4, alpha=0.01, gamma=0.8: avg_reward=-0.2569699999999976\n"
     ]
    }
   ],
   "source": [
    "reward_history = []\n",
    "num_of_episodes = int(1e5)\n",
    "\n",
    "current_run = 1\n",
    "for epsilon in eps_range:\n",
    "    for alpha in alpha_range:\n",
    "        for gamma in gamma_range:\n",
    "            Q = get_random_Q()\n",
    "            pi = compute_policy_by_Q(Q)\n",
    "            episode_reward = 0\n",
    "            for i in range(num_of_episodes):\n",
    "                _, _, rewards = Q_learning_episode(env, pi, Q, alpha=alpha, epsilon=epsilon, gamma=gamma, nA=2)\n",
    "                pi = compute_policy_by_Q(Q)\n",
    "                episode_reward = (episode_reward * i + rewards[-1]) / (i + 1)\n",
    "            reward_history.append((epsilon, alpha, gamma, episode_reward))\n",
    "            print(f\"{current_run}: epsilon={epsilon}, alpha={alpha}, gamma={gamma}: avg_reward={episode_reward}\")\n",
    "            current_run += 1"
   ]
  },
  {
   "cell_type": "code",
   "execution_count": 186,
   "metadata": {},
   "outputs": [],
   "source": [
    "fin_history = np.array([np.array(item) for item in reward_history])"
   ]
  },
  {
   "cell_type": "code",
   "execution_count": 190,
   "metadata": {},
   "outputs": [
    {
     "data": {
      "text/plain": [
       "12"
      ]
     },
     "execution_count": 190,
     "metadata": {},
     "output_type": "execute_result"
    }
   ],
   "source": [
    "fin_history[:, 3].argmax()"
   ]
  },
  {
   "cell_type": "code",
   "execution_count": 191,
   "metadata": {},
   "outputs": [
    {
     "data": {
      "text/plain": [
       "array([ 0.1    ,  0.01   ,  0.2    , -0.14849])"
      ]
     },
     "execution_count": 191,
     "metadata": {},
     "output_type": "execute_result"
    }
   ],
   "source": [
    "fin_history[12]"
   ]
  },
  {
   "cell_type": "markdown",
   "metadata": {},
   "source": [
    "#### Оптимальные параметры получились: epsilon=0.1, alpha=0.01, gamma=0.2"
   ]
  },
  {
   "cell_type": "code",
   "execution_count": 193,
   "metadata": {},
   "outputs": [],
   "source": [
    "reward_history_v1 = []\n",
    "\n",
    "Q = get_random_Q()\n",
    "pi = compute_policy_by_Q(Q)\n",
    "\n",
    "num_of_episodes = int(1e5)\n",
    "for _ in range(num_of_episodes):\n",
    "    _, _, rewards = Q_learning_episode(env, pi, Q, epsilon=0.1, alpha=0.01, gamma=0.2)\n",
    "    reward_history_v1.append(rewards[-1])\n",
    "    pi = compute_policy_by_Q(Q)"
   ]
  },
  {
   "cell_type": "code",
   "execution_count": 197,
   "metadata": {},
   "outputs": [
    {
     "data": {
      "image/png": "[encoded data removed]",
      "text/plain": [
       "<Figure size 432x288 with 1 Axes>"
      ]
     },
     "metadata": {
      "needs_background": "light"
     },
     "output_type": "display_data"
    }
   ],
   "source": [
    "plot_mean_reward(reward_history_v1)"
   ]
  },
  {
   "cell_type": "code",
   "execution_count": 198,
   "metadata": {},
   "outputs": [
    {
     "name": "stdout",
     "output_type": "stream",
     "text": [
      "Reward for q learning is -0.15548\n"
     ]
    }
   ],
   "source": [
    "print(f\"Reward for q learning is {np.mean(reward_history_v1)}\")"
   ]
  },
  {
   "cell_type": "code",
   "execution_count": 199,
   "metadata": {},
   "outputs": [],
   "source": [
    "env.close()"
   ]
  },
  {
   "cell_type": "code",
   "execution_count": null,
   "metadata": {},
   "outputs": [],
   "source": []
  },
  {
   "cell_type": "markdown",
   "metadata": {
    "id": "9A1unNW9NcpV"
   },
   "source": [
    "### Часть II"
   ]
  },
  {
   "cell_type": "markdown",
   "metadata": {
    "id": "5s7dk77VNcsl"
   },
   "source": [
    "В базовый блекджек, описанный в предыдущем разделе, обыграть казино вряд ли получится. Но, к счастью, на этом история не заканчивается. Описанные выше правила были упрощёнными, а на самом деле у игрока есть ещё и другие возможности. Реализовывать split может оказаться непросто, поэтому давайте ограничимся удвоением ставки. Итак, у игрока появляется дополнительное действие:<br>\n",
    "➢\tdouble — удвоить ставку; при этом больше действий делать нельзя, игроку выдаётся ровно одна дополнительная карта, а выигрыш или проигрыш удваивается.<br>\n",
    "4.\tРеализуйте новый вариант блекджека на основе окружения Blackjack-v0 из OpenAI Gym, в котором разрешено удвоение ставки.<br>\n",
    "5.\tРеализуйте метод обучения с подкреплением без модели для этого варианта, постройте графики, аналогичные п.2.<br>"
   ]
  },
  {
   "cell_type": "code",
   "execution_count": 208,
   "metadata": {},
   "outputs": [],
   "source": [
    "from blackjack import BlackjackDoubleEnv"
   ]
  },
  {
   "cell_type": "code",
   "execution_count": 209,
   "metadata": {},
   "outputs": [],
   "source": [
    "env = BlackjackDoubleEnv(natural=True)"
   ]
  },
  {
   "cell_type": "code",
   "execution_count": 210,
   "metadata": {},
   "outputs": [],
   "source": [
    "def get_random_Q_double():\n",
    "    \n",
    "    # добавляем в Q награды за третье действие double\n",
    "\n",
    "    player_Q_Values = {} \n",
    "    for player_val in range(2, 33):\n",
    "        for dealer_val in range(1, 11):\n",
    "            for usable_ace in [True, False]:          \n",
    "                if (player_val == 21) and not usable_ace:\n",
    "                    player_Q_Values[(player_val, dealer_val, usable_ace)] = [0, 1, 0] #in case of hit we get 0, stand +1, double is impossible\n",
    "                elif (player_val == 21) and usable_ace:\n",
    "                    #natural_blackjack\n",
    "                    player_Q_Values[(player_val, dealer_val, usable_ace)] = [0, 1.5, 0]\n",
    "                elif (player_val == 32) and usable_ace:\n",
    "                    continue                     \n",
    "                elif (player_val < 12) and not usable_ace:\n",
    "                    player_Q_Values[(player_val, dealer_val, usable_ace)] = np.random.random(3)\n",
    "                elif (player_val >= 12) and (player_val < 21):\n",
    "                    player_Q_Values[(player_val, dealer_val, usable_ace)] = np.random.random(3)            \n",
    "                elif player_val > 21:    #i > 21\n",
    "                    player_Q_Values[(player_val, dealer_val, usable_ace)] = [0, 0, 0]\n",
    "    return player_Q_Values"
   ]
  },
  {
   "cell_type": "code",
   "execution_count": 212,
   "metadata": {},
   "outputs": [],
   "source": [
    "reward_history = []\n",
    "\n",
    "Q = get_random_Q_double()\n",
    "pi = compute_policy_by_Q(Q)\n",
    "\n",
    "num_of_episodes = int(1e5)\n",
    "for _ in range(num_of_episodes):\n",
    "    _, _, rewards = Q_learning_episode(env, pi, Q, epsilon=0.1, alpha=0.01, gamma=0.2, nA=3)\n",
    "    reward_history.append(rewards[-1])\n",
    "    pi = compute_policy_by_Q(Q)"
   ]
  },
  {
   "cell_type": "code",
   "execution_count": 213,
   "metadata": {},
   "outputs": [
    {
     "data": {
      "image/png": "[encoded data removed]",
      "text/plain": [
       "<Figure size 432x288 with 1 Axes>"
      ]
     },
     "metadata": {
      "needs_background": "light"
     },
     "output_type": "display_data"
    }
   ],
   "source": [
    "plot_mean_reward(reward_history)"
   ]
  },
  {
   "cell_type": "code",
   "execution_count": 214,
   "metadata": {},
   "outputs": [
    {
     "name": "stdout",
     "output_type": "stream",
     "text": [
      "Reward for q learning with doubling is -0.17897\n"
     ]
    }
   ],
   "source": [
    "print(f\"Reward for q learning with doubling is {np.mean(reward_history)}\")"
   ]
  },
  {
   "cell_type": "code",
   "execution_count": 219,
   "metadata": {},
   "outputs": [],
   "source": [
    "env.close()"
   ]
  },
  {
   "cell_type": "markdown",
   "metadata": {},
   "source": [
    "1: epsilon=0.1, alpha=0.01, gamma=0.1: avg_reward=-0.19089499999999907\n",
    "2: epsilon=0.1, alpha=0.01, gamma=0.2: avg_reward=-0.18294999999999897\n",
    "3: epsilon=0.1, alpha=0.01, gamma=0.4: avg_reward=-0.17812000000000047\n",
    "4: epsilon=0.2, alpha=0.01, gamma=0.1: avg_reward=-0.1846049999999994\n",
    "5: epsilon=0.2, alpha=0.01, gamma=0.2: avg_reward=-0.18906000000000023\n",
    "6: epsilon=0.2, alpha=0.01, gamma=0.4: avg_reward=-0.17722999999999975\n",
    "7: epsilon=0.2, alpha=0.01, gamma=0.6: avg_reward=-0.18427000000000007\n",
    "8: epsilon=0.2, alpha=0.01, gamma=0.8: avg_reward=-0.17979500000000145\n",
    "10: epsilon=0.2, alpha=0.001, gamma=0.4: avg_reward=-0.18282000000000043"
   ]
  },
  {
   "cell_type": "markdown",
   "metadata": {
    "id": "9A1unNW9NcpV"
   },
   "source": [
    "### Часть III"
   ]
  },
  {
   "cell_type": "markdown",
   "metadata": {
    "id": "5s7dk77VNcsl"
   },
   "source": [
    "А теперь давайте вспомним, как играют в блекджек настоящие профессионалы. Дело в том, что в оффлайн-казино обычно не перемешивают колоду после каждой раздачи — это слишком замедляло бы игру. После раздачи карты просто раздаются дальше с верха колоды до тех пор, пока карт не останется слишком мало, и только тогда колода перемешивается; давайте для определённости считать, что наше казино будет перемешивать колоду, в которой осталось меньше 15 карт.<br>\n",
    "\n",
    "Действительно, если вы будете запоминать, какие карты уже вышли, у вас будет информация о том, какие карты ещё остались, а это позволяет лучше понять, когда нужно удваивать ставку или делать split, а когда лучше не стоит. В настоящем казино могут раздавать карты сразу из нескольких колод, и заслуга Rain Man’а была в том, что он смог считать карты в шести колодах одновременно. Но мы с вами вооружены компьютерами, так что подсчёт можно считать автоматическим.<br>\n",
    "6.\tРеализуйте вариант окружения Blackjack-v0 из предыдущей части (с удвоением), в котором игрок имеет возможность “считать карты” в колоде. Это можно сделать разными способами; возможно, вам поможет статья википедии о блекджеке (а возможно, и нет).<br>\n",
    "7.\tРеализуйте метод обучения с подкреплением без модели для этого варианта, постройте графики, аналогичные п.2.<br>"
   ]
  },
  {
   "cell_type": "code",
   "execution_count": 217,
   "metadata": {},
   "outputs": [],
   "source": [
    "from blackjack import BlackjackCountDoubleEnv"
   ]
  },
  {
   "cell_type": "code",
   "execution_count": 220,
   "metadata": {},
   "outputs": [],
   "source": [
    "env = BlackjackCountDoubleEnv(natural=True)"
   ]
  },
  {
   "cell_type": "code",
   "execution_count": null,
   "metadata": {},
   "outputs": [],
   "source": [
    "def get_random_Q_count():\n",
    "    \n",
    "    # добавляем в Q ключи, зависящие от текущего счета\n",
    "\n",
    "    player_Q_Values = {} \n",
    "    for player_val in range(2, 33):\n",
    "        for dealer_val in range(1, 11):\n",
    "            for usable_ace in [True, False]:\n",
    "                for count in np.arange(-20, 20, 0.5):\n",
    "                    # вроде при таком подсчете самое минимальное, \n",
    "                    # что можно насчитать до перемешивания колоды, это -17 \n",
    "                    #(сумма полной колоды 0, остались для перемешивания 15 карт, \n",
    "                    # из которых 4 карты веса 1.5 и 11 веса 1) \n",
    "                    # а максимальное - это 15 (выкинули 15 карт веса -1)\n",
    "                    # беру с запасом на всякий случай\n",
    "                    if (player_val == 21) and not usable_ace:\n",
    "                        player_Q_Values[(player_val, dealer_val, usable_ace, count)] = [0, 1, 0] \n",
    "                        #in case of hit we get 0, stand +1, double is impossible\n",
    "                    elif (player_val == 21) and usable_ace:\n",
    "                        #natural_blackjack\n",
    "                        player_Q_Values[(player_val, dealer_val, usable_ace, count)] = [0, 1.5, 0]\n",
    "                    elif (player_val == 32) and usable_ace:\n",
    "                        continue                     \n",
    "                    elif (player_val < 12) and not usable_ace:\n",
    "                        player_Q_Values[(player_val, dealer_val, usable_ace, count)] = np.random.random(3)\n",
    "                    elif (player_val >= 12) and (player_val < 21):\n",
    "                        player_Q_Values[(player_val, dealer_val, usable_ace, count)] = np.random.random(3)            \n",
    "                    elif player_val > 21:    #i > 21\n",
    "                        player_Q_Values[(player_val, dealer_val, usable_ace, count)] = [0, 0, 0]\n",
    "    return player_Q_Values"
   ]
  },
  {
   "cell_type": "code",
   "execution_count": 226,
   "metadata": {},
   "outputs": [
    {
     "ename": "KeyboardInterrupt",
     "evalue": "",
     "output_type": "error",
     "traceback": [
      "\u001b[1;31m---------------------------------------------------------------------------\u001b[0m",
      "\u001b[1;31mKeyboardInterrupt\u001b[0m                         Traceback (most recent call last)",
      "\u001b[1;32m<ipython-input-226-3e3cf108123c>\u001b[0m in \u001b[0;36m<module>\u001b[1;34m\u001b[0m\n\u001b[0;32m      8\u001b[0m     \u001b[0m_\u001b[0m\u001b[1;33m,\u001b[0m \u001b[0m_\u001b[0m\u001b[1;33m,\u001b[0m \u001b[0mrewards\u001b[0m \u001b[1;33m=\u001b[0m \u001b[0mQ_learning_episode\u001b[0m\u001b[1;33m(\u001b[0m\u001b[0menv\u001b[0m\u001b[1;33m,\u001b[0m \u001b[0mpi\u001b[0m\u001b[1;33m,\u001b[0m \u001b[0mQ\u001b[0m\u001b[1;33m,\u001b[0m \u001b[0mepsilon\u001b[0m\u001b[1;33m=\u001b[0m\u001b[1;36m0.1\u001b[0m\u001b[1;33m,\u001b[0m \u001b[0malpha\u001b[0m\u001b[1;33m=\u001b[0m\u001b[1;36m0.01\u001b[0m\u001b[1;33m,\u001b[0m \u001b[0mgamma\u001b[0m\u001b[1;33m=\u001b[0m\u001b[1;36m0.2\u001b[0m\u001b[1;33m,\u001b[0m \u001b[0mnA\u001b[0m\u001b[1;33m=\u001b[0m\u001b[1;36m3\u001b[0m\u001b[1;33m)\u001b[0m\u001b[1;33m\u001b[0m\u001b[1;33m\u001b[0m\u001b[0m\n\u001b[0;32m      9\u001b[0m     \u001b[0mreward_history\u001b[0m\u001b[1;33m.\u001b[0m\u001b[0mappend\u001b[0m\u001b[1;33m(\u001b[0m\u001b[0mrewards\u001b[0m\u001b[1;33m[\u001b[0m\u001b[1;33m-\u001b[0m\u001b[1;36m1\u001b[0m\u001b[1;33m]\u001b[0m\u001b[1;33m)\u001b[0m\u001b[1;33m\u001b[0m\u001b[1;33m\u001b[0m\u001b[0m\n\u001b[1;32m---> 10\u001b[1;33m     \u001b[0mpi\u001b[0m \u001b[1;33m=\u001b[0m \u001b[0mcompute_policy_by_Q\u001b[0m\u001b[1;33m(\u001b[0m\u001b[0mQ\u001b[0m\u001b[1;33m)\u001b[0m\u001b[1;33m\u001b[0m\u001b[1;33m\u001b[0m\u001b[0m\n\u001b[0m",
      "\u001b[1;32m<ipython-input-86-eb89e6dbefbd>\u001b[0m in \u001b[0;36mcompute_policy_by_Q\u001b[1;34m(player_Q_Values, gamma)\u001b[0m\n\u001b[0;32m      4\u001b[0m     \u001b[0mpi\u001b[0m \u001b[1;33m=\u001b[0m \u001b[1;33m{\u001b[0m\u001b[1;33m}\u001b[0m\u001b[1;33m\u001b[0m\u001b[1;33m\u001b[0m\u001b[0m\n\u001b[0;32m      5\u001b[0m     \u001b[1;32mfor\u001b[0m \u001b[0mkey\u001b[0m \u001b[1;32min\u001b[0m \u001b[0mplayer_Q_Values\u001b[0m\u001b[1;33m:\u001b[0m\u001b[1;33m\u001b[0m\u001b[1;33m\u001b[0m\u001b[0m\n\u001b[1;32m----> 6\u001b[1;33m         \u001b[0mpi\u001b[0m\u001b[1;33m[\u001b[0m\u001b[0mkey\u001b[0m\u001b[1;33m]\u001b[0m \u001b[1;33m=\u001b[0m \u001b[0mnp\u001b[0m\u001b[1;33m.\u001b[0m\u001b[0margmax\u001b[0m\u001b[1;33m(\u001b[0m \u001b[0mplayer_Q_Values\u001b[0m\u001b[1;33m[\u001b[0m\u001b[0mkey\u001b[0m\u001b[1;33m]\u001b[0m \u001b[1;33m)\u001b[0m\u001b[1;33m\u001b[0m\u001b[1;33m\u001b[0m\u001b[0m\n\u001b[0m\u001b[0;32m      7\u001b[0m \u001b[1;31m#     return np.argmax( Q, axis=1 )\u001b[0m\u001b[1;33m\u001b[0m\u001b[1;33m\u001b[0m\u001b[1;33m\u001b[0m\u001b[0m\n\u001b[0;32m      8\u001b[0m     \u001b[1;32mreturn\u001b[0m \u001b[0mpi\u001b[0m\u001b[1;33m\u001b[0m\u001b[1;33m\u001b[0m\u001b[0m\n",
      "\u001b[1;32m<__array_function__ internals>\u001b[0m in \u001b[0;36margmax\u001b[1;34m(*args, **kwargs)\u001b[0m\n",
      "\u001b[1;32mD:\\Anaconda\\lib\\site-packages\\numpy\\core\\fromnumeric.py\u001b[0m in \u001b[0;36margmax\u001b[1;34m(a, axis, out)\u001b[0m\n\u001b[0;32m   1186\u001b[0m \u001b[1;33m\u001b[0m\u001b[0m\n\u001b[0;32m   1187\u001b[0m     \"\"\"\n\u001b[1;32m-> 1188\u001b[1;33m     \u001b[1;32mreturn\u001b[0m \u001b[0m_wrapfunc\u001b[0m\u001b[1;33m(\u001b[0m\u001b[0ma\u001b[0m\u001b[1;33m,\u001b[0m \u001b[1;34m'argmax'\u001b[0m\u001b[1;33m,\u001b[0m \u001b[0maxis\u001b[0m\u001b[1;33m=\u001b[0m\u001b[0maxis\u001b[0m\u001b[1;33m,\u001b[0m \u001b[0mout\u001b[0m\u001b[1;33m=\u001b[0m\u001b[0mout\u001b[0m\u001b[1;33m)\u001b[0m\u001b[1;33m\u001b[0m\u001b[1;33m\u001b[0m\u001b[0m\n\u001b[0m\u001b[0;32m   1189\u001b[0m \u001b[1;33m\u001b[0m\u001b[0m\n\u001b[0;32m   1190\u001b[0m \u001b[1;33m\u001b[0m\u001b[0m\n",
      "\u001b[1;32mD:\\Anaconda\\lib\\site-packages\\numpy\\core\\fromnumeric.py\u001b[0m in \u001b[0;36m_wrapfunc\u001b[1;34m(obj, method, *args, **kwds)\u001b[0m\n\u001b[0;32m     53\u001b[0m     \u001b[0mbound\u001b[0m \u001b[1;33m=\u001b[0m \u001b[0mgetattr\u001b[0m\u001b[1;33m(\u001b[0m\u001b[0mobj\u001b[0m\u001b[1;33m,\u001b[0m \u001b[0mmethod\u001b[0m\u001b[1;33m,\u001b[0m \u001b[1;32mNone\u001b[0m\u001b[1;33m)\u001b[0m\u001b[1;33m\u001b[0m\u001b[1;33m\u001b[0m\u001b[0m\n\u001b[0;32m     54\u001b[0m     \u001b[1;32mif\u001b[0m \u001b[0mbound\u001b[0m \u001b[1;32mis\u001b[0m \u001b[1;32mNone\u001b[0m\u001b[1;33m:\u001b[0m\u001b[1;33m\u001b[0m\u001b[1;33m\u001b[0m\u001b[0m\n\u001b[1;32m---> 55\u001b[1;33m         \u001b[1;32mreturn\u001b[0m \u001b[0m_wrapit\u001b[0m\u001b[1;33m(\u001b[0m\u001b[0mobj\u001b[0m\u001b[1;33m,\u001b[0m \u001b[0mmethod\u001b[0m\u001b[1;33m,\u001b[0m \u001b[1;33m*\u001b[0m\u001b[0margs\u001b[0m\u001b[1;33m,\u001b[0m \u001b[1;33m**\u001b[0m\u001b[0mkwds\u001b[0m\u001b[1;33m)\u001b[0m\u001b[1;33m\u001b[0m\u001b[1;33m\u001b[0m\u001b[0m\n\u001b[0m\u001b[0;32m     56\u001b[0m \u001b[1;33m\u001b[0m\u001b[0m\n\u001b[0;32m     57\u001b[0m     \u001b[1;32mtry\u001b[0m\u001b[1;33m:\u001b[0m\u001b[1;33m\u001b[0m\u001b[1;33m\u001b[0m\u001b[0m\n",
      "\u001b[1;32mD:\\Anaconda\\lib\\site-packages\\numpy\\core\\fromnumeric.py\u001b[0m in \u001b[0;36m_wrapit\u001b[1;34m(obj, method, *args, **kwds)\u001b[0m\n\u001b[0;32m     42\u001b[0m     \u001b[1;32mexcept\u001b[0m \u001b[0mAttributeError\u001b[0m\u001b[1;33m:\u001b[0m\u001b[1;33m\u001b[0m\u001b[1;33m\u001b[0m\u001b[0m\n\u001b[0;32m     43\u001b[0m         \u001b[0mwrap\u001b[0m \u001b[1;33m=\u001b[0m \u001b[1;32mNone\u001b[0m\u001b[1;33m\u001b[0m\u001b[1;33m\u001b[0m\u001b[0m\n\u001b[1;32m---> 44\u001b[1;33m     \u001b[0mresult\u001b[0m \u001b[1;33m=\u001b[0m \u001b[0mgetattr\u001b[0m\u001b[1;33m(\u001b[0m\u001b[0masarray\u001b[0m\u001b[1;33m(\u001b[0m\u001b[0mobj\u001b[0m\u001b[1;33m)\u001b[0m\u001b[1;33m,\u001b[0m \u001b[0mmethod\u001b[0m\u001b[1;33m)\u001b[0m\u001b[1;33m(\u001b[0m\u001b[1;33m*\u001b[0m\u001b[0margs\u001b[0m\u001b[1;33m,\u001b[0m \u001b[1;33m**\u001b[0m\u001b[0mkwds\u001b[0m\u001b[1;33m)\u001b[0m\u001b[1;33m\u001b[0m\u001b[1;33m\u001b[0m\u001b[0m\n\u001b[0m\u001b[0;32m     45\u001b[0m     \u001b[1;32mif\u001b[0m \u001b[0mwrap\u001b[0m\u001b[1;33m:\u001b[0m\u001b[1;33m\u001b[0m\u001b[1;33m\u001b[0m\u001b[0m\n\u001b[0;32m     46\u001b[0m         \u001b[1;32mif\u001b[0m \u001b[1;32mnot\u001b[0m \u001b[0misinstance\u001b[0m\u001b[1;33m(\u001b[0m\u001b[0mresult\u001b[0m\u001b[1;33m,\u001b[0m \u001b[0mmu\u001b[0m\u001b[1;33m.\u001b[0m\u001b[0mndarray\u001b[0m\u001b[1;33m)\u001b[0m\u001b[1;33m:\u001b[0m\u001b[1;33m\u001b[0m\u001b[1;33m\u001b[0m\u001b[0m\n",
      "\u001b[1;31mKeyboardInterrupt\u001b[0m: "
     ]
    }
   ],
   "source": [
    "reward_history = []\n",
    "\n",
    "Q = get_random_Q_count()\n",
    "pi = compute_policy_by_Q(Q)\n",
    "\n",
    "num_of_episodes = int(1e5)\n",
    "for i in range(num_of_episodes):\n",
    "    print(i)\n",
    "    _, _, rewards = Q_learning_episode(env, pi, Q, epsilon=0.1, alpha=0.01, gamma=0.2, nA=3)\n",
    "    reward_history.append(rewards[-1])\n",
    "    pi = compute_policy_by_Q(Q)"
   ]
  },
  {
   "cell_type": "code",
   "execution_count": 228,
   "metadata": {},
   "outputs": [
    {
     "data": {
      "image/png": "[encoded data removed]",
      "text/plain": [
       "<Figure size 432x288 with 1 Axes>"
      ]
     },
     "metadata": {
      "needs_background": "light"
     },
     "output_type": "display_data"
    }
   ],
   "source": [
    "plot_mean_reward(reward_history)"
   ]
  },
  {
   "cell_type": "code",
   "execution_count": 229,
   "metadata": {},
   "outputs": [
    {
     "name": "stdout",
     "output_type": "stream",
     "text": [
      "Reward for q learning with doubling is -0.4814782070550791\n"
     ]
    }
   ],
   "source": [
    "print(f\"Reward for q learning with doubling is {np.mean(reward_history)}\")"
   ]
  },
  {
   "cell_type": "code",
   "execution_count": null,
   "metadata": {},
   "outputs": [],
   "source": [
    "env.close()"
   ]
  },
  {
   "cell_type": "code",
   "execution_count": null,
   "metadata": {},
   "outputs": [],
   "source": []
  },
  {
   "cell_type": "code",
   "execution_count": null,
   "metadata": {},
   "outputs": [],
   "source": []
  },
  {
   "cell_type": "markdown",
   "metadata": {},
   "source": [
    "### Итого: \n",
    "1) в среднем простая стратегия дает выигрыш -0.19404 <br>\n",
    "2) q-обучение с подобранными гиперпараметрами (epsilon=0.1, alpha=0.01, gamma=0.2) дало -0.15548 <br>\n",
    "3) q-обучение с опцией удвоения ставки и не подобранными гиперпараметрами (взяты из предыдущего пункта) -0.17897 <br>\n",
    "4) q-обучение с удвоением ставки и подсчетом карт и не подобранными гиперпараметрами ...(TODO:finish calc) <br>\n",
    "\n",
    "Обыграть казино не удалось. \n",
    "Возможно, если получше подобрать параметры для вариантов 3-4, они дадут улучшение"
   ]
  },
  {
   "cell_type": "code",
   "execution_count": null,
   "metadata": {},
   "outputs": [],
   "source": []
  },
  {
   "cell_type": "code",
   "execution_count": null,
   "metadata": {},
   "outputs": [],
   "source": []
  },
  {
   "cell_type": "code",
   "execution_count": null,
   "metadata": {},
   "outputs": [],
   "source": []
  },
  {
   "cell_type": "code",
   "execution_count": null,
   "metadata": {},
   "outputs": [],
   "source": []
  },
  {
   "cell_type": "code",
   "execution_count": null,
   "metadata": {},
   "outputs": [],
   "source": []
  },
  {
   "cell_type": "markdown",
   "metadata": {},
   "source": [
    "Notes\n",
    "\n",
    "pi - стратегия <br>\n",
    "s - состояние state  <br>\n",
    "a - действие action  <br>\n",
    "Value function:  <br>\n",
    "V(s)= E_pi[Gt|St=s] - функция значений состояния [ожидаемый доход, который мы получим, если выйдем из состояния s и дальше будем действовать по стратегии pi] <br>\n",
    "Q(s, a)= E_pi[Gt|St=s]  - функция значений пара значений состояние-действие [ожидаемый доход, который мы получим, если выйдем из состояния s, в s сделаем действие a и дальше будем действовать по стратегии pi] <br>\n",
    "\n",
    "a_prime - действие на следующий ход, <br> \n",
    "np.max( Q[s_prime] ) - лучшее, что мы можем сделать в следующем состоянии"
   ]
  }
 ],
 "metadata": {
  "colab": {
   "authorship_tag": "ABX9TyOPqq06slmNVmQxJvZRxO8u",
   "collapsed_sections": [],
   "name": "HW1_blackjack.ipynb",
   "provenance": []
  },
  "kernelspec": {
   "display_name": "Python 3",
   "language": "python",
   "name": "python3"
  },
  "language_info": {
   "codemirror_mode": {
    "name": "ipython",
    "version": 3
   },
   "file_extension": ".py",
   "mimetype": "text/x-python",
   "name": "python",
   "nbconvert_exporter": "python",
   "pygments_lexer": "ipython3",
   "version": "3.7.1"
  }
 },
 "nbformat": 4,
 "nbformat_minor": 1
}
