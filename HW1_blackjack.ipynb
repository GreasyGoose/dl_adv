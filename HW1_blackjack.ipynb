{
 "cells": [
  {
   "cell_type": "markdown",
   "metadata": {
    "id": "oDw2uhzINcjN"
   },
   "source": [
    "### RL and Advanced DL: Домашнее задание 1"
   ]
  },
  {
   "cell_type": "markdown",
   "metadata": {
    "id": "ZEZJqOq_NcmS"
   },
   "source": [
    "Первое ДЗ связано с обучением с подкреплением, и оно придумано для ситуации, когда нейронные сети ещё не нужны, и пространство состояний в целом достаточно маленькое, чтобы можно было обучить хорошую стратегию методами TD-обучения или другими методами обучения с подкреплением."
   ]
  },
  {
   "cell_type": "markdown",
   "metadata": {
    "id": "9A1unNW9NcpV"
   },
   "source": [
    "### Часть I"
   ]
  },
  {
   "cell_type": "markdown",
   "metadata": {
    "id": "5s7dk77VNcsl"
   },
   "source": [
    "Мы будем обучаться играть в очень простую, но знаменитую и популярную игру: блекджек. \n",
    " \n",
    "Правила блекджека достаточно просты; давайте начнём с самой базовой версии, которая реализована в OpenAI Gym:<br>\n",
    "➢\tчисленные значения карт равны от 2 до 10 для карт от двойки до десятки, 10 для валетов, дам и королей;<br>\n",
    "➢\tтуз считается за 11 очков, если общая сумма карт на руке при этом не превосходит 21 (по-английски в этом случае говорят, что на руке есть usable ace), и за 1 очко, если превосходит;<br>\n",
    "➢\tигроку раздаются две карты, дилеру — одна в открытую и одна в закрытую;<br>\n",
    "➢\tигрок может совершать одно из двух действий:<br>\n",
    "○\thit  — взять ещё одну карту;<br>\n",
    "○\tstand — не брать больше карт;<br>\n",
    "➢\tесли сумма очков у игрока на руках больше 21, он проигрывает (bust);<br>\n",
    "➢\tесли игрок выбирает stand с суммой не больше 21, дилер добирает карты, пока сумма карт в его руке меньше 17;<br>\n",
    "➢\tпосле этого игрок выигрывает, если дилер либо превышает 21, либо получает сумму очков меньше, чем сумма очков у игрока; при равенстве очков объявляется ничья (ставка возвращается);<br>\n",
    "➢\tв исходных правилах есть ещё дополнительный бонус за natural blackjack: если игрок набирает 21 очко с раздачи, двумя картами, он выигрывает не +1, а +1.5 (полторы ставки).<br>\n",
    "Именно этот простейший вариант блекджека реализован в OpenAI Gym:<br>\n",
    "https://github.com/openai/gym/blob/master/gym/envs/toy_text/blackjack.py \n",
    "1.\tРассмотрим очень простую стратегию: говорить stand, если у нас на руках комбинация в 19, 20 или 21 очко, во всех остальных случаях говорить hit. Используйте методы Монте-Карло, чтобы оценить выигрыш от этой стратегии.<br>\n",
    "2.\tРеализуйте метод обучения с подкреплением без модели (можно Q-обучение, но рекомендую попробовать и другие, например Monte Carlo control) для обучения стратегии в блекджеке, используя окружение Blackjack-v0 из OpenAI Gym.<br>\n",
    "3.\tСколько выигрывает казино у вашей стратегии? Нарисуйте графики среднего дохода вашего метода (усреднённого по крайней мере по 100000 раздач, а лучше больше) по ходу обучения. Попробуйте подобрать оптимальные гиперпараметры.<br>\n"
   ]
  },
  {
   "cell_type": "code",
   "execution_count": 4,
   "metadata": {
    "colab": {
     "base_uri": "https://localhost:8080/",
     "height": 316
    },
    "executionInfo": {
     "elapsed": 469,
     "status": "error",
     "timestamp": 1635011304561,
     "user": {
      "displayName": "Android Android",
      "photoUrl": "https://lh3.googleusercontent.com/a/default-user=s64",
      "userId": "13093274461639918305"
     },
     "user_tz": -180
    },
    "id": "vbO0aJ-6Ocbm",
    "outputId": "a7cc8e7a-cf08-4fea-9f95-cf9b00d4b2ee"
   },
   "outputs": [],
   "source": [
    "# import blackjack"
   ]
  },
  {
   "cell_type": "code",
   "execution_count": 20,
   "metadata": {},
   "outputs": [],
   "source": [
    "import gym\n",
    "from gym import envs\n",
    "import numpy as np"
   ]
  },
  {
   "cell_type": "code",
   "execution_count": 19,
   "metadata": {},
   "outputs": [],
   "source": [
    "# print(envs.registry.all())"
   ]
  },
  {
   "cell_type": "code",
   "execution_count": 10,
   "metadata": {},
   "outputs": [],
   "source": [
    "env=gym.make('Blackjack-v1', natural=True)"
   ]
  },
  {
   "cell_type": "code",
   "execution_count": 21,
   "metadata": {},
   "outputs": [],
   "source": [
    "def simple_strategy_episode(env):\n",
    "    \"\"\"\n",
    "    observations:\n",
    "        score_player, score_dealer, usable_ace [natural blackjack]\n",
    "    actions: 0 - stand, 1 - hit\n",
    "    \"\"\"\n",
    "    obs, actions, rewards = [], [], []\n",
    "    observation = env.reset()\n",
    "    done = False\n",
    "    while not done:\n",
    "        score_player, score_dealer, usable_ace = observation\n",
    "        action = 1 if score_player < 19 else 0\n",
    "        actions.append(action)\n",
    "        obs.append(observation)\n",
    "        observation, reward, done, _ = env.step(action)\n",
    "        rewards.append(reward)\n",
    "    return obs, actions, rewards"
   ]
  },
  {
   "cell_type": "code",
   "execution_count": 23,
   "metadata": {},
   "outputs": [
    {
     "name": "stdout",
     "output_type": "stream",
     "text": [
      "observations[score_player, score_dealer, usable_ace]=[(9, 1, False), (18, 1, False), (21, 1, False)], actions=[1, 1, 0], rewards=[0.0, 0.0, 1.0]\n"
     ]
    }
   ],
   "source": [
    "#Single example\n",
    "obs, actions, rewards = simple_strategy_episode(env)\n",
    "print(f\"observations[score_player, score_dealer, usable_ace]={obs}, actions={actions}, rewards={rewards}\" )"
   ]
  },
  {
   "cell_type": "code",
   "execution_count": 43,
   "metadata": {},
   "outputs": [],
   "source": [
    "num_of_episodes = int(1e5)\n",
    "simple_strategy_reward = 0\n",
    "for i in range(num_of_episodes): \n",
    "    _, _, rewards = simple_strategy_episode(env)\n",
    "    simple_strategy_reward = (simple_strategy_reward * (i + 1) + rewards[-1]) / ((i + 1) + 1)"
   ]
  },
  {
   "cell_type": "code",
   "execution_count": 44,
   "metadata": {},
   "outputs": [
    {
     "name": "stdout",
     "output_type": "stream",
     "text": [
      "Reward for simple strategy is -0.19606803931960404\n"
     ]
    }
   ],
   "source": [
    "print(f\"Reward for simple strategy is {simple_strategy_reward}\")"
   ]
  },
  {
   "cell_type": "code",
   "execution_count": null,
   "metadata": {},
   "outputs": [],
   "source": [
    "env.close()"
   ]
  },
  {
   "cell_type": "markdown",
   "metadata": {},
   "source": [
    "#### Reward for simple strategy is -0.196"
   ]
  },
  {
   "cell_type": "markdown",
   "metadata": {},
   "source": [
    "Реализуйте метод обучения с подкреплением без модели (можно Q-обучение, но рекомендую попробовать и другие, например Monte Carlo control) для обучения стратегии в блекджеке, используя окружение Blackjack-v0 из OpenAI Gym."
   ]
  },
  {
   "cell_type": "code",
   "execution_count": null,
   "metadata": {},
   "outputs": [],
   "source": []
  },
  {
   "cell_type": "code",
   "execution_count": null,
   "metadata": {},
   "outputs": [],
   "source": []
  },
  {
   "cell_type": "code",
   "execution_count": null,
   "metadata": {},
   "outputs": [],
   "source": []
  },
  {
   "cell_type": "code",
   "execution_count": null,
   "metadata": {},
   "outputs": [],
   "source": []
  }
 ],
 "metadata": {
  "colab": {
   "authorship_tag": "ABX9TyOPqq06slmNVmQxJvZRxO8u",
   "collapsed_sections": [],
   "name": "HW1_blackjack.ipynb",
   "provenance": []
  },
  "kernelspec": {
   "display_name": "Python 3",
   "language": "python",
   "name": "python3"
  },
  "language_info": {
   "codemirror_mode": {
    "name": "ipython",
    "version": 3
   },
   "file_extension": ".py",
   "mimetype": "text/x-python",
   "name": "python",
   "nbconvert_exporter": "python",
   "pygments_lexer": "ipython3",
   "version": "3.7.1"
  }
 },
 "nbformat": 4,
 "nbformat_minor": 1
}
